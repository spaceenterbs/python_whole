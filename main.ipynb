{
 "cells": [
  {
   "cell_type": "code",
   "execution_count": 2,
   "metadata": {},
   "outputs": [
    {
     "name": "stdout",
     "output_type": "stream",
     "text": [
      "banana added to the shopping cart.\n",
      "{'banana': 1}\n"
     ]
    }
   ],
   "source": [
    "# 특정 제품을 담으면 쇼핑 리스트에 반영이 되는 장바구니를 어떻게 파이썬 코드로 만들어야 할까요? 가장 쉬운 코드로 알려주세요.\n",
    "\n",
    "def create_shopping_cart(product_list, product_name):\n",
    "    shopping_cart = {}\n",
    "\n",
    "    # Check if the product exists in the list\n",
    "    if product_name in product_list:\n",
    "        # Add the product to the shopping cart with a quantity of 1\n",
    "        shopping_cart[product_name] = 1\n",
    "        print(f\"{product_name} added to the shopping cart.\")\n",
    "    else:\n",
    "        print(f\"{product_name} is not in the product list.\")\n",
    "\n",
    "    return shopping_cart\n",
    "\n",
    "# Example usage\n",
    "products = [\"apple\", \"banana\", \"orange\", \"grapes\"]\n",
    "cart = create_shopping_cart(products, \"banana\")\n",
    "print(cart)"
   ]
  },
  {
   "cell_type": "code",
   "execution_count": 3,
   "metadata": {},
   "outputs": [
    {
     "name": "stdout",
     "output_type": "stream",
     "text": [
      "The current stock of apple is 10.\n"
     ]
    }
   ],
   "source": [
    "# 제품의 현재 재고를 물어보고 확인하는 프로그램이 필요합니다. 어떻게 파이썬 코드를 만들어야 할까요? 가장 쉬운 코드로 알려주세요.\n",
    "\n",
    "def check_stock(product_stock, product_name):\n",
    "    # Check if the product exists in the stock dictionary\n",
    "    if product_name in product_stock:\n",
    "        stock = product_stock[product_name]\n",
    "        print(f\"The current stock of {product_name} is {stock}.\")\n",
    "    else:\n",
    "        print(f\"{product_name} is not in the stock.\")\n",
    "\n",
    "# Example usage\n",
    "stock = {\n",
    "    \"apple\": 10,\n",
    "    \"banana\": 5,\n",
    "    \"orange\": 8,\n",
    "    \"grapes\": 15\n",
    "}\n",
    "\n",
    "product = input(\"Enter the product name: \")\n",
    "check_stock(stock, product)\n"
   ]
  },
  {
   "cell_type": "code",
   "execution_count": null,
   "metadata": {},
   "outputs": [],
   "source": [
    "# Q. 지금 장바구니에 있는 제품 리스트를 하나씩 출력해주는 파이썬 프로그램을 만들어줘"
   ]
  }
 ],
 "metadata": {
  "kernelspec": {
   "display_name": "Python 3",
   "language": "python",
   "name": "python3"
  },
  "language_info": {
   "codemirror_mode": {
    "name": "ipython",
    "version": 3
   },
   "file_extension": ".py",
   "mimetype": "text/x-python",
   "name": "python",
   "nbconvert_exporter": "python",
   "pygments_lexer": "ipython3",
   "version": "3.11.3"
  },
  "orig_nbformat": 4
 },
 "nbformat": 4,
 "nbformat_minor": 2
}
