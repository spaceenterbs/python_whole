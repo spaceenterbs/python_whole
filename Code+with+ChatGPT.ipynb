{
 "cells": [
  {
   "cell_type": "markdown",
   "id": "9c31d03e",
   "metadata": {},
   "source": [
    "# < ChatGPT로 배우는 초단기 코딩 공부 >"
   ]
  },
  {
   "cell_type": "markdown",
   "id": "854bb07c",
   "metadata": {},
   "source": [
    "# 1. 파이썬 기초"
   ]
  },
  {
   "cell_type": "code",
   "execution_count": 10,
   "id": "6ca343d2",
   "metadata": {},
   "outputs": [],
   "source": [
    "A = ['가', '나', '다']"
   ]
  },
  {
   "cell_type": "code",
   "execution_count": 11,
   "id": "c0c66448",
   "metadata": {},
   "outputs": [
    {
     "data": {
      "text/plain": [
       "'가'"
      ]
     },
     "execution_count": 11,
     "metadata": {},
     "output_type": "execute_result"
    }
   ],
   "source": [
    "A[0]"
   ]
  },
  {
   "cell_type": "code",
   "execution_count": 12,
   "id": "2b541ac4",
   "metadata": {},
   "outputs": [
    {
     "data": {
      "text/plain": [
       "'나'"
      ]
     },
     "execution_count": 12,
     "metadata": {},
     "output_type": "execute_result"
    }
   ],
   "source": [
    "A[1]"
   ]
  },
  {
   "cell_type": "code",
   "execution_count": 13,
   "id": "e6962e9e",
   "metadata": {},
   "outputs": [
    {
     "data": {
      "text/plain": [
       "['가']"
      ]
     },
     "execution_count": 13,
     "metadata": {},
     "output_type": "execute_result"
    }
   ],
   "source": [
    "A[0:1]"
   ]
  },
  {
   "cell_type": "code",
   "execution_count": 14,
   "id": "6ab5f727",
   "metadata": {},
   "outputs": [
    {
     "data": {
      "text/plain": [
       "['가', '나']"
      ]
     },
     "execution_count": 14,
     "metadata": {},
     "output_type": "execute_result"
    }
   ],
   "source": [
    "A[0:2]"
   ]
  },
  {
   "cell_type": "code",
   "execution_count": 32,
   "id": "6a824b9e",
   "metadata": {},
   "outputs": [
    {
     "data": {
      "text/plain": [
       "['가', '나']"
      ]
     },
     "execution_count": 32,
     "metadata": {},
     "output_type": "execute_result"
    }
   ],
   "source": [
    "A[:2]"
   ]
  },
  {
   "cell_type": "code",
   "execution_count": 33,
   "id": "7862fa58",
   "metadata": {},
   "outputs": [
    {
     "data": {
      "text/plain": [
       "'다'"
      ]
     },
     "execution_count": 33,
     "metadata": {},
     "output_type": "execute_result"
    }
   ],
   "source": [
    "A[-1]"
   ]
  },
  {
   "cell_type": "code",
   "execution_count": 15,
   "id": "ffced2c1",
   "metadata": {},
   "outputs": [],
   "source": [
    "B = { '사과' : 'apple',  '차' : 'car',  '하늘' : 'sky' }"
   ]
  },
  {
   "cell_type": "code",
   "execution_count": 16,
   "id": "2ec7245f",
   "metadata": {},
   "outputs": [
    {
     "data": {
      "text/plain": [
       "'apple'"
      ]
     },
     "execution_count": 16,
     "metadata": {},
     "output_type": "execute_result"
    }
   ],
   "source": [
    "B['사과']"
   ]
  },
  {
   "cell_type": "code",
   "execution_count": 17,
   "id": "3670212a",
   "metadata": {},
   "outputs": [
    {
     "data": {
      "text/plain": [
       "'sky'"
      ]
     },
     "execution_count": 17,
     "metadata": {},
     "output_type": "execute_result"
    }
   ],
   "source": [
    "B['하늘']"
   ]
  },
  {
   "cell_type": "markdown",
   "id": "9e893fca",
   "metadata": {},
   "source": [
    "## Q. 특정 제품을 담으면 쇼핑 리스트에 반영이 되는 장바구니 프로그램"
   ]
  },
  {
   "cell_type": "code",
   "execution_count": 3,
   "id": "440f88bf",
   "metadata": {},
   "outputs": [
    {
     "name": "stdout",
     "output_type": "stream",
     "text": [
      "apple has been added to your cart.\n",
      "banana has been added to your cart.\n",
      "orange has been added to your cart.\n",
      "Here is the list of items in your cart:\n",
      "apple\n",
      "banana\n",
      "orange\n",
      "banana has been removed from your cart.\n",
      "Here is the list of items in your cart:\n",
      "apple\n",
      "orange\n"
     ]
    }
   ],
   "source": [
    "shopping_cart = []\n",
    "\n",
    "def add_to_cart(item):\n",
    "    shopping_cart.append(item)\n",
    "    print(f\"{item} has been added to your cart.\")\n",
    "\n",
    "def remove_from_cart(item):\n",
    "    shopping_cart.remove(item)\n",
    "    print(f\"{item} has been removed from your cart.\")\n",
    "\n",
    "def view_cart():\n",
    "    print(\"Here is the list of items in your cart:\")\n",
    "    for item in shopping_cart:\n",
    "        print(item)\n",
    "\n",
    "add_to_cart(\"apple\")\n",
    "add_to_cart(\"banana\")\n",
    "add_to_cart(\"orange\")\n",
    "view_cart()\n",
    "remove_from_cart(\"banana\")\n",
    "view_cart()\n"
   ]
  },
  {
   "cell_type": "markdown",
   "id": "d69dea69",
   "metadata": {},
   "source": [
    "## Q. 제품의 현재 재고를 물어보고 확인하는 프로그램"
   ]
  },
  {
   "cell_type": "code",
   "execution_count": 1,
   "id": "f2a743e1",
   "metadata": {},
   "outputs": [
    {
     "name": "stdout",
     "output_type": "stream",
     "text": [
      "Enter product name: product1\n",
      "Current stock:  5\n"
     ]
    }
   ],
   "source": [
    "product_stock = {\"product1\": 5, \"product2\": 10, \"product3\": 0}\n",
    "\n",
    "product_name = input(\"Enter product name: \")\n",
    "\n",
    "if product_name in product_stock:\n",
    "    print(\"Current stock: \", product_stock[product_name])\n",
    "else:\n",
    "    print(product_name, \" not found.\")\n"
   ]
  },
  {
   "cell_type": "markdown",
   "id": "be29c943",
   "metadata": {},
   "source": [
    "## Q. 지금 장바구니에 있는 제품 리스트를 하나씩 출력해주는 프로그램"
   ]
  },
  {
   "cell_type": "code",
   "execution_count": 2,
   "id": "14309425",
   "metadata": {},
   "outputs": [
    {
     "name": "stdout",
     "output_type": "stream",
     "text": [
      "Here are the items in your shopping cart:\n",
      "milk\n",
      "bread\n",
      "eggs\n",
      "bananas\n",
      "apples\n"
     ]
    }
   ],
   "source": [
    "shopping_cart = [\"milk\", \"bread\", \"eggs\", \"bananas\", \"apples\"]\n",
    "\n",
    "print(\"Here are the items in your shopping cart:\")\n",
    "for item in shopping_cart:\n",
    "    print(item)\n"
   ]
  },
  {
   "cell_type": "markdown",
   "id": "0d7e76c0",
   "metadata": {},
   "source": [
    "# 2. 판다스"
   ]
  },
  {
   "cell_type": "markdown",
   "id": "1cc41f9c",
   "metadata": {},
   "source": [
    "## 1."
   ]
  },
  {
   "cell_type": "code",
   "execution_count": 9,
   "id": "0710933e",
   "metadata": {
    "scrolled": true
   },
   "outputs": [
    {
     "name": "stdout",
     "output_type": "stream",
     "text": [
      "               제품명(한글)        수입일자     제조국  수출국  가격\n",
      "22                커피원두    2/5/2021   에티오피아  지부티  88\n",
      "26                커피원두    2/5/2021    콜롬비아  캐나다  50\n",
      "202     커피원두(생두)  60KG    2/5/2021   에티오피아   일본  24\n",
      "203           커피원두(생두)    2/5/2021     브라질   일본  47\n",
      "204           커피원두(생두)    2/5/2021    콜롬비아   일본  39\n",
      "...                ...         ...     ...  ...  ..\n",
      "8307             커피 생두  12/22/2020   코스타리카   영국  72\n",
      "8308             커피 생두  12/22/2020    과테말라   영국  18\n",
      "8565             커피 생두  12/21/2020     브라질   미국  20\n",
      "8733  에티오피아 아라비카 커피 원두  12/21/2020   에티오피아   중국  49\n",
      "8743            버번바닐라빈  12/21/2020  마다가스카르  프랑스  83\n",
      "\n",
      "[68 rows x 5 columns]\n"
     ]
    }
   ],
   "source": [
    "import pandas as pd\n",
    "\n",
    "# read in the CSV file\n",
    "df = pd.read_csv('file.csv')\n",
    "\n",
    "# filter for rows where the product name includes \"커피\" or \"원두\" or \"빈\"\n",
    "df = df[df['제품명(한글)'].str.contains('커피|원두|빈')]\n",
    "\n",
    "# filter for rows where the manufacture country and export country are different\n",
    "df = df[df['제조국'] != df['수출국']]\n",
    "\n",
    "# display the filtered data\n",
    "print(df)\n"
   ]
  },
  {
   "cell_type": "code",
   "execution_count": 10,
   "id": "cbf5a234",
   "metadata": {},
   "outputs": [],
   "source": [
    "df.to_clipboard()"
   ]
  },
  {
   "cell_type": "markdown",
   "id": "a42354f3",
   "metadata": {},
   "source": [
    "## 2."
   ]
  },
  {
   "cell_type": "code",
   "execution_count": 12,
   "id": "c0b85aa8",
   "metadata": {},
   "outputs": [
    {
     "name": "stdout",
     "output_type": "stream",
     "text": [
      "               제품명(한글)        수입일자     제조국     수출국  가격\n",
      "9                냉동그린빈    2/5/2021      중국      중국   1\n",
      "22                커피원두    2/5/2021   에티오피아     지부티  88\n",
      "26                커피원두    2/5/2021    콜롬비아     캐나다  50\n",
      "86        마다가스카르 바닐라 빈    2/5/2021  마다가스카르  마다가스카르  61\n",
      "117               커피원두    2/5/2021    온두라스    온두라스  66\n",
      "...                ...         ...     ...     ...  ..\n",
      "8567              커피원두  12/21/2020    탄자니아    탄자니아  85\n",
      "8611              커피생두  12/21/2020    탄자니아    탄자니아  72\n",
      "8693             냉동그린빈  12/21/2020      중국      중국  24\n",
      "8703              커피원두  12/21/2020   인도네시아   인도네시아  39\n",
      "8733  에티오피아 아라비카 커피 원두  12/21/2020   에티오피아      중국  49\n",
      "\n",
      "[248 rows x 5 columns]\n"
     ]
    },
    {
     "data": {
      "text/html": [
       "<div>\n",
       "<style scoped>\n",
       "    .dataframe tbody tr th:only-of-type {\n",
       "        vertical-align: middle;\n",
       "    }\n",
       "\n",
       "    .dataframe tbody tr th {\n",
       "        vertical-align: top;\n",
       "    }\n",
       "\n",
       "    .dataframe thead th {\n",
       "        text-align: right;\n",
       "    }\n",
       "</style>\n",
       "<table border=\"1\" class=\"dataframe\">\n",
       "  <thead>\n",
       "    <tr style=\"text-align: right;\">\n",
       "      <th></th>\n",
       "      <th>제품명(한글)</th>\n",
       "      <th>수입일자</th>\n",
       "      <th>제조국</th>\n",
       "      <th>수출국</th>\n",
       "      <th>가격</th>\n",
       "    </tr>\n",
       "  </thead>\n",
       "  <tbody>\n",
       "    <tr>\n",
       "      <th>9</th>\n",
       "      <td>냉동그린빈</td>\n",
       "      <td>2/5/2021</td>\n",
       "      <td>중국</td>\n",
       "      <td>중국</td>\n",
       "      <td>1</td>\n",
       "    </tr>\n",
       "    <tr>\n",
       "      <th>22</th>\n",
       "      <td>커피원두</td>\n",
       "      <td>2/5/2021</td>\n",
       "      <td>에티오피아</td>\n",
       "      <td>지부티</td>\n",
       "      <td>88</td>\n",
       "    </tr>\n",
       "    <tr>\n",
       "      <th>26</th>\n",
       "      <td>커피원두</td>\n",
       "      <td>2/5/2021</td>\n",
       "      <td>콜롬비아</td>\n",
       "      <td>캐나다</td>\n",
       "      <td>50</td>\n",
       "    </tr>\n",
       "    <tr>\n",
       "      <th>86</th>\n",
       "      <td>마다가스카르 바닐라 빈</td>\n",
       "      <td>2/5/2021</td>\n",
       "      <td>마다가스카르</td>\n",
       "      <td>마다가스카르</td>\n",
       "      <td>61</td>\n",
       "    </tr>\n",
       "    <tr>\n",
       "      <th>117</th>\n",
       "      <td>커피원두</td>\n",
       "      <td>2/5/2021</td>\n",
       "      <td>온두라스</td>\n",
       "      <td>온두라스</td>\n",
       "      <td>66</td>\n",
       "    </tr>\n",
       "    <tr>\n",
       "      <th>...</th>\n",
       "      <td>...</td>\n",
       "      <td>...</td>\n",
       "      <td>...</td>\n",
       "      <td>...</td>\n",
       "      <td>...</td>\n",
       "    </tr>\n",
       "    <tr>\n",
       "      <th>8567</th>\n",
       "      <td>커피원두</td>\n",
       "      <td>12/21/2020</td>\n",
       "      <td>탄자니아</td>\n",
       "      <td>탄자니아</td>\n",
       "      <td>85</td>\n",
       "    </tr>\n",
       "    <tr>\n",
       "      <th>8611</th>\n",
       "      <td>커피생두</td>\n",
       "      <td>12/21/2020</td>\n",
       "      <td>탄자니아</td>\n",
       "      <td>탄자니아</td>\n",
       "      <td>72</td>\n",
       "    </tr>\n",
       "    <tr>\n",
       "      <th>8693</th>\n",
       "      <td>냉동그린빈</td>\n",
       "      <td>12/21/2020</td>\n",
       "      <td>중국</td>\n",
       "      <td>중국</td>\n",
       "      <td>24</td>\n",
       "    </tr>\n",
       "    <tr>\n",
       "      <th>8703</th>\n",
       "      <td>커피원두</td>\n",
       "      <td>12/21/2020</td>\n",
       "      <td>인도네시아</td>\n",
       "      <td>인도네시아</td>\n",
       "      <td>39</td>\n",
       "    </tr>\n",
       "    <tr>\n",
       "      <th>8733</th>\n",
       "      <td>에티오피아 아라비카 커피 원두</td>\n",
       "      <td>12/21/2020</td>\n",
       "      <td>에티오피아</td>\n",
       "      <td>중국</td>\n",
       "      <td>49</td>\n",
       "    </tr>\n",
       "  </tbody>\n",
       "</table>\n",
       "<p>248 rows × 5 columns</p>\n",
       "</div>"
      ],
      "text/plain": [
       "               제품명(한글)        수입일자     제조국     수출국  가격\n",
       "9                냉동그린빈    2/5/2021      중국      중국   1\n",
       "22                커피원두    2/5/2021   에티오피아     지부티  88\n",
       "26                커피원두    2/5/2021    콜롬비아     캐나다  50\n",
       "86        마다가스카르 바닐라 빈    2/5/2021  마다가스카르  마다가스카르  61\n",
       "117               커피원두    2/5/2021    온두라스    온두라스  66\n",
       "...                ...         ...     ...     ...  ..\n",
       "8567              커피원두  12/21/2020    탄자니아    탄자니아  85\n",
       "8611              커피생두  12/21/2020    탄자니아    탄자니아  72\n",
       "8693             냉동그린빈  12/21/2020      중국      중국  24\n",
       "8703              커피원두  12/21/2020   인도네시아   인도네시아  39\n",
       "8733  에티오피아 아라비카 커피 원두  12/21/2020   에티오피아      중국  49\n",
       "\n",
       "[248 rows x 5 columns]"
      ]
     },
     "execution_count": 12,
     "metadata": {},
     "output_type": "execute_result"
    }
   ],
   "source": [
    "import pandas as pd\n",
    "\n",
    "# read in the CSV file\n",
    "df = pd.read_csv('file.csv')\n",
    "\n",
    "# filter for rows where the product name includes \"커피\" or \"원두\" or \"빈\"\n",
    "df = df[df['제품명(한글)'].str.contains('커피|원두|빈')]\n",
    "\n",
    "# filter for rows where the export country does not include \"에티오피아\", \"콜롬비아\", \"프랑스\", \"베트남\", \"과테말라\", \"브라질\"\n",
    "df = df[~df['수출국'].str.contains('에티오피아|콜롬비아|프랑스|베트남|과테말라|브라질')]\n",
    "\n",
    "# display the filtered data\n",
    "print(df)\n",
    "df"
   ]
  },
  {
   "cell_type": "markdown",
   "id": "7a2b2dd4",
   "metadata": {},
   "source": [
    "## 3."
   ]
  },
  {
   "cell_type": "code",
   "execution_count": 13,
   "id": "1e7d09b5",
   "metadata": {},
   "outputs": [
    {
     "name": "stdout",
     "output_type": "stream",
     "text": [
      "      수출국  cases\n",
      "18  인도네시아     29\n",
      "23     케냐     26\n",
      "28     페루     20\n",
      "3      독일     16\n",
      "25   탄자니아     16\n"
     ]
    }
   ],
   "source": [
    "# group the data by 수출국 and count the number of cases for each country\n",
    "export_count = df.groupby('수출국').size().reset_index(name='cases')\n",
    "\n",
    "# sort the dataframe by the number of cases in descending order\n",
    "export_count = export_count.sort_values(by='cases', ascending=False)\n",
    "\n",
    "# display the top 5\n",
    "print(export_count.head(5))\n"
   ]
  },
  {
   "cell_type": "markdown",
   "id": "aeb3ccfa",
   "metadata": {},
   "source": [
    "## 4."
   ]
  },
  {
   "cell_type": "code",
   "execution_count": 15,
   "id": "def9c12a",
   "metadata": {},
   "outputs": [
    {
     "name": "stdout",
     "output_type": "stream",
     "text": [
      "   month  total_price\n",
      "0      1       100046\n",
      "1      2        27525\n",
      "2     12        43762\n"
     ]
    }
   ],
   "source": [
    "import pandas as pd\n",
    "\n",
    "# read in the CSV file\n",
    "df = pd.read_csv('file.csv')\n",
    "\n",
    "# filter for rows where the manufacture country is \"중국\"\n",
    "df = df[df['제조국'] == '중국']\n",
    "\n",
    "# convert the '수입일자' column to datetime\n",
    "df['수입일자'] = pd.to_datetime(df['수입일자'])\n",
    "\n",
    "# extract the month information from the '수입일자' column\n",
    "df['month'] = df['수입일자'].dt.month\n",
    "\n",
    "# group the data by month and calculate the sum of 가격 for each month\n",
    "price_by_month = df.groupby('month')['가격'].sum().reset_index(name='total_price')\n",
    "\n",
    "# display the resulting dataframe\n",
    "print(price_by_month)\n"
   ]
  },
  {
   "cell_type": "markdown",
   "id": "d4e89538",
   "metadata": {},
   "source": [
    "## 5."
   ]
  },
  {
   "cell_type": "code",
   "execution_count": 16,
   "id": "23fa780d",
   "metadata": {},
   "outputs": [
    {
     "name": "stdout",
     "output_type": "stream",
     "text": [
      "   month  latest_price\n",
      "0      1            73\n",
      "1      2            83\n",
      "2     12            91\n"
     ]
    }
   ],
   "source": [
    "import pandas as pd\n",
    "\n",
    "# read in the CSV file\n",
    "df = pd.read_csv('file.csv')\n",
    "\n",
    "# filter for rows where the manufacture country is \"태국\" and 제품명(한글) is \"망고\"\n",
    "df = df[(df['제조국'] == \"태국\") & (df['제품명(한글)'] == \"망고\")]\n",
    "\n",
    "# convert the '수입일자' column to datetime\n",
    "df['수입일자'] = pd.to_datetime(df['수입일자'])\n",
    "\n",
    "# extract the month information from the '수입일자' column\n",
    "df['month'] = df['수입일자'].dt.month\n",
    "\n",
    "# group the data by month and select the latest of 가격 for each month\n",
    "price_by_month = df.sort_values(by='수입일자', ascending=False).groupby('month')['가격'].first().reset_index(name='latest_price')\n",
    "\n",
    "# display the resulting dataframe\n",
    "print(price_by_month)\n"
   ]
  },
  {
   "cell_type": "markdown",
   "id": "fae5ad9d",
   "metadata": {},
   "source": [
    "## Q."
   ]
  },
  {
   "cell_type": "code",
   "execution_count": 27,
   "id": "8532b2d8",
   "metadata": {},
   "outputs": [],
   "source": [
    "import matplotlib as mpl\n",
    "mpl.rcParams['font.family'] = 'NanumGothic'\n"
   ]
  },
  {
   "cell_type": "code",
   "execution_count": 28,
   "id": "038c0d7e",
   "metadata": {},
   "outputs": [
    {
     "data": {
      "image/png": "[encoded data removed]",
      "text/plain": [
       "<Figure size 432x288 with 1 Axes>"
      ]
     },
     "metadata": {},
     "output_type": "display_data"
    }
   ],
   "source": [
    "import pandas as pd\n",
    "import matplotlib.pyplot as plt\n",
    "\n",
    "# read in the CSV file\n",
    "df = pd.read_csv('file.csv', encoding='utf-8')\n",
    "\n",
    "# group the data by 제품명(한글) and count the number of cases for each product\n",
    "product_count = df.groupby('제품명(한글)').size().reset_index(name='cases')\n",
    "\n",
    "# sort the dataframe by the number of cases in descending order\n",
    "product_count = product_count.sort_values(by='cases', ascending=False)\n",
    "\n",
    "# choose only the top 5\n",
    "product_count = product_count.head(5)\n",
    "\n",
    "# create a pie chart of the data\n",
    "plt.pie(product_count['cases'], labels=product_count['제품명(한글)'])\n",
    "plt.show()\n"
   ]
  },
  {
   "cell_type": "markdown",
   "id": "e2c285d0",
   "metadata": {},
   "source": [
    "# 3. 스크레이핑"
   ]
  },
  {
   "cell_type": "markdown",
   "id": "d940abcc",
   "metadata": {},
   "source": [
    "## 1."
   ]
  },
  {
   "cell_type": "code",
   "execution_count": 1,
   "id": "5e479a2a",
   "metadata": {},
   "outputs": [
    {
     "name": "stdout",
     "output_type": "stream",
     "text": [
      "Loss Weight Phục Linh Collagen(2)\n",
      "KisuNew giảm cân trà xanh\n",
      "Adam Xmen\n",
      "Loss Weight Phục Linh Collagen(1)\n",
      "Xian Ling\n",
      "Wantong Pegel Linu\n",
      "Viagra Gold\n",
      "Urat Madu Black\n",
      "Tou Gubao\n",
      "Tangkur Ganas\n",
      "Tang Bing Yao\n",
      "Super Kecetit Asam Urat\n",
      "Slim by Mimo\n",
      "Samuraten\n",
      "Rhino Super Long Lasting 750k\n",
      "Rhino Super Long Lasting Premium 500k \n",
      "Ramuan Pak Kumis 120ml\n",
      "Ramping Herbal Alami RHA\n",
      "Plus Power Love 20,000\n",
      "Pinky\n",
      "Pi Yen Pian\n",
      "Pemikat\n",
      "Pegal Linu Raja Madu Klanceng Plus\n",
      "Obat Sakit Gigi Kombinastan\n",
      "Obat Kuat dan Tahan Lama Urat Jantan\n",
      "Obat Gatal-Gatal Cap Cobra\n",
      "New Cobra Mas\n",
      "Libigrow Platinum 10,000\n",
      "Lalake\n",
      "Kuat Lelaki Suromadu\n",
      "Kaplet C-100\n",
      "JIU JENG PUSHEN JIAO NANG\n",
      "Jamu “Duan Dewa”: Asam Urat \n",
      "Jamu “Duan Dewa”: Pegel Linu\n",
      "Herb Viagra\n",
      "Hammer of Thor\n",
      "Guci Emas\n",
      "GS Serbuk Guna Sehat\n",
      "Greeng Jos Kopi BAPAK\n",
      "Gold Rhino Super Long Lasting Extreme 285k\n",
      "Gan Mao Tong Kaplet\n",
      "Gaining Weight Capsule\n",
      "Delias (Ke Cie Siao Chuan Yen) \n",
      "Del Cing Fung San Powder\n",
      "Black Panther Power Gummy\n",
      "Bintang Dua Mustika Dewa\n",
      "Beruang Putih\n",
      "Asam Urat \n",
      "Africa Black Ant\n",
      "金银花\n"
     ]
    }
   ],
   "source": [
    "import requests\n",
    "from bs4 import BeautifulSoup\n",
    "\n",
    "def get_data(url, pages):\n",
    "    for i in range(1, pages+1):\n",
    "        res = requests.get(url.format(i))\n",
    "        soup = BeautifulSoup(res.text, 'html.parser')\n",
    "\n",
    "        for h4 in soup.find_all('h4'):\n",
    "            strong = h4.find('strong')\n",
    "            if strong:\n",
    "                print(strong.text)\n",
    "\n",
    "        if i < pages:\n",
    "            next_url = url.format(i+1)\n",
    "        else:\n",
    "            break\n",
    "\n",
    "url = \"https://impfood.mfds.go.kr/CFCBB04F01/getCntntsList?page={}&limit=10&cntntsSn=&searchCondition=all&searchInpText=\"\n",
    "get_data(url, 5)\n"
   ]
  },
  {
   "cell_type": "markdown",
   "id": "afc8a182",
   "metadata": {},
   "source": [
    "### Selenium 사용 시"
   ]
  },
  {
   "cell_type": "code",
   "execution_count": 3,
   "id": "831e5121",
   "metadata": {},
   "outputs": [
    {
     "name": "stdout",
     "output_type": "stream",
     "text": [
      "Loss Weight Phục Linh Collagen(2)\n",
      "KisuNew giảm cân trà xanh\n",
      "Adam Xmen\n",
      "Loss Weight Phục Linh Collagen(1)\n",
      "Xian Ling\n",
      "Wantong Pegel Linu\n",
      "Viagra Gold\n",
      "Urat Madu Black\n",
      "Tou Gubao\n",
      "Tangkur Ganas\n",
      "Tang Bing Yao\n",
      "Super Kecetit Asam Urat\n",
      "Slim by Mimo\n",
      "Samuraten\n",
      "Rhino Super Long Lasting 750k\n",
      "Rhino Super Long Lasting Premium 500k\n",
      "Ramuan Pak Kumis 120ml\n",
      "Ramping Herbal Alami RHA\n",
      "Plus Power Love 20,000\n",
      "Pinky\n",
      "Pi Yen Pian\n",
      "Pemikat\n",
      "Pegal Linu Raja Madu Klanceng Plus\n",
      "Obat Sakit Gigi Kombinastan\n",
      "Obat Kuat dan Tahan Lama Urat Jantan\n",
      "Obat Gatal-Gatal Cap Cobra\n",
      "New Cobra Mas\n",
      "Libigrow Platinum 10,000\n",
      "Lalake\n",
      "Kuat Lelaki Suromadu\n",
      "Kaplet C-100\n",
      "JIU JENG PUSHEN JIAO NANG\n",
      "Jamu “Duan Dewa”: Asam Urat\n",
      "Jamu “Duan Dewa”: Pegel Linu\n",
      "Herb Viagra\n",
      "Hammer of Thor\n",
      "Guci Emas\n",
      "GS Serbuk Guna Sehat\n",
      "Greeng Jos Kopi BAPAK\n",
      "Gold Rhino Super Long Lasting Extreme 285k\n",
      "Gan Mao Tong Kaplet\n",
      "Gaining Weight Capsule\n",
      "Delias (Ke Cie Siao Chuan Yen)\n",
      "Del Cing Fung San Powder\n",
      "Black Panther Power Gummy\n",
      "Bintang Dua Mustika Dewa\n",
      "Beruang Putih\n",
      "Asam Urat\n",
      "Africa Black Ant\n",
      "金银花\n"
     ]
    }
   ],
   "source": [
    "from selenium import webdriver\n",
    "from selenium.webdriver.common.by import By\n",
    "from selenium.webdriver.support.ui import WebDriverWait\n",
    "from selenium.webdriver.support import expected_conditions as EC\n",
    "\n",
    "driver = webdriver.Chrome()\n",
    "wait = WebDriverWait(driver, 10)\n",
    "\n",
    "for i in range(1, 6):\n",
    "    driver.get(f\"https://impfood.mfds.go.kr/CFCBB04F01/getCntntsList?page={i}&limit=10&cntntsSn=&searchCondition=all&searchInpText=\")\n",
    "    h4s = wait.until(EC.presence_of_all_elements_located((By.CSS_SELECTOR, 'h4 strong')))\n",
    "\n",
    "    for h4 in h4s:\n",
    "        print(h4.text)\n",
    "\n",
    "driver.quit()\n"
   ]
  },
  {
   "cell_type": "markdown",
   "id": "d21c007c",
   "metadata": {},
   "source": [
    "## 2."
   ]
  },
  {
   "cell_type": "code",
   "execution_count": 6,
   "id": "d33d184f",
   "metadata": {},
   "outputs": [
    {
     "name": "stdout",
     "output_type": "stream",
     "text": [
      "/wpge/m_30/de010802l001.do\n",
      "/wpge/m_11/de010101l0001.do\n",
      "/wpge/m_11/de010101l0001.do\n",
      "/wpge/m_633/de010102l0002.do\n",
      "/wpge/m_27/de010112l0001.do\n",
      "/wpge/m_28/de010113l0001.do\n",
      "/wpge/m_56/de010412l001.do\n",
      "/wpge/m_56/de010412l001.do\n",
      "/wpge/m_56/de010412l001.do\n",
      "/wpge/m_489/de010414l001.do\n",
      "/wpge/m_1097/de010410l011.do\n",
      "/wpge/m_678/de010410l005.do\n",
      "/wpge/m_678/de010410l005.do\n",
      "/wpge/m_679/de010410l006.do\n",
      "/wpge/m_680/de010410l007.do\n",
      "/wpge/m_488/de010204l001.do\n",
      "/wpge/m_488/de010204l001.do\n",
      "/wpge/m_484/de020301l001.do\n",
      "/wpge/m_485/de020401l001.do\n",
      "/wpge/m_684/de010410l009.do\n",
      "/wpge/m_684/de010410l009.do\n",
      "/wpge/m_684/de010410l009.do\n",
      "/wpge/m_685/de010410l010.do\n",
      "/wpge/m_1113/de080101l0001.do\n",
      "/wpge/m_663/de010705l0009.do\n",
      "/wpge/m_506/de010209l001.do\n",
      "/wpge/m_1122/de010703l0001.do\n",
      "/wpge/m_505/de010204l002.do\n",
      "/wpge/m_505/de010204l002.do\n",
      "/wpge/m_506/de010209l001.do\n",
      "/wpge/m_507/de010209l003.do\n",
      "/wpge/m_293/de050301l001.do\n",
      "/wpge/m_293/de050301l001.do\n",
      "/wpge/m_305/de050303l001.do\n",
      "/wpge/m_318/de050305l001.do\n",
      "/wpge/m_676/de010410l004.do\n",
      "/wpge/m_676/de010410l004.do\n",
      "/wpge/m_675/de010410l003.do\n",
      "/wpge/m_510/de050301l002.do\n",
      "/wpge/m_510/de050301l002.do\n",
      "/wpge/m_717/de050901l002.do\n",
      "/wpge/m_717/de050901l002.do\n",
      "/wpge/m_664/de010204l003.do\n",
      "/wpge/m_708/de010209l002.do\n",
      "/wpge/m_736/de010114l001.do\n",
      "/wpge/m_736/de010114l001.do\n",
      "/wpge/m_740/de010114l003.do\n",
      "/wpge/m_740/de010114l003.do\n",
      "/wpge/m_738/de010114l002.do\n",
      "/wpge/m_1078/de010807l001.do\n",
      "/wpge/m_1079/de010807l001.do\n",
      "/wpge/m_1083/de010807l004.do\n",
      "/wpge/m_1085/de010807l005.do\n",
      "/wpge/m_572/de050501l001.do\n",
      "/wpge/m_572/de050501l001.do\n",
      "/wpge/m_639/de050601l001.do\n",
      "/wpge/m_639/de050601l001.do\n",
      "/wpge/m_637/de050801l001.do\n",
      "/wpge/m_637/de050801l001.do\n",
      "/wpge/m_721/de050901l004.do\n",
      "/wpge/m_721/de050901l004.do\n",
      "/wpge/m_529/de050901l001.do\n",
      "/wpge/m_529/de050901l001.do\n",
      "/wpge/m_579/de050902l001.do\n",
      "/wpge/m_579/de050902l001.do\n",
      "/wpge/m_467/de050902l003.do\n",
      "/wpge/m_468/de050903l001.do\n",
      "/wpge/m_468/de050903l001.do\n",
      "/wpge/m_308/de010602l001.do\n",
      "/wpge/m_651/de010619l0001.do\n",
      "/wpge/m_651/de010619l0001.do\n",
      "/wpge/m_652/de010620l0001.do\n",
      "/wpge/m_310/de010603l0001.do\n",
      "/wpge/m_310/de010603l0001.do\n",
      "/wpge/m_714/de010603l0001.do\n",
      "/wpge/m_311/de010603l0001.do\n",
      "/wpge/m_312/de010603l0001.do\n",
      "/wpge/m_314/de010603l0001.do\n",
      "/wpge/m_317/de010603l0001.do\n",
      "/wpge/m_320/de010603l0001.do\n",
      "/wpge/m_245/de010701l001.do\n",
      "/wpge/m_245/de010701l001.do\n",
      "/wpge/m_245/de010701l001.do\n",
      "/wpge/m_249/de010702l001.do\n",
      "/wpge/m_531/de070104l001.do\n",
      "/wpge/m_271/de010705l0001.do\n",
      "/wpge/m_271/de010705l0001.do\n",
      "/wpge/m_273/de010705l0002.do\n",
      "/wpge/m_275/de010705l0003.do\n",
      "/wpge/m_278/de010706l0001.do\n",
      "/wpge/m_279/de010707l0001.do\n",
      "/wpge/m_285/de010708l0001.do\n",
      "/wpge/m_285/de010708l0001.do\n",
      "/wpge/m_286/de010709l0001.do\n",
      "/wpge/m_289/de010711l0001.do\n",
      "/wpge/m_289/de010711l0001.do\n",
      "/wpge/m_290/de010712l0001.do\n",
      "/wpge/m_30/de010802l001.do\n",
      "/wpge/m_25/de010801l001.do\n",
      "/wpge/m_30/de010802l001.do\n",
      "/wpge/m_34/de010803l001.do\n",
      "/wpge/m_634/de010806l001.do\n",
      "/wpge/m_25/de010801l001.do\n",
      "/wpge/m_11/de010101l0001.do\n",
      "/wpge/m_56/de010412l001.do\n",
      "/wpge/m_506/de010209l001.do\n",
      "/wpge/m_245/de010701l001.do\n",
      "/wpge/m_245/de010701l001.do\n",
      "/wpge/m_285/de010708l0001.do\n",
      "/wpge/m_289/de010711l0001.do\n",
      "/wpge/m_245/de010701l001.do\n",
      "/wpge/m_249/de010702l001.do\n",
      "/wpge/m_531/de070104l001.do\n",
      "/wpge/m_271/de010705l0001.do\n",
      "/wpge/m_278/de010706l0001.do\n",
      "/wpge/m_279/de010707l0001.do\n",
      "/wpge/m_249/de010702l001.do\n",
      "/wpge/m_250/de010702l002.do\n",
      "/wpge/m_252/de010702l003.do\n",
      "/wpge/m_257/de010702l004.do\n",
      "/wpge/m_259/de010702l005.do\n",
      "/wpge/m_261/de010702l006.do\n",
      "/wpge/m_262/de010702l007.do\n",
      "/wpge/m_265/de010702l008.do\n",
      "/wpge/m_30/de010802l001.do\n",
      "/wpge/m_34/de010803l001.do\n",
      "/wpge/m_271/de010705l0001.do\n"
     ]
    }
   ],
   "source": [
    "import requests\n",
    "from bs4 import BeautifulSoup\n",
    "\n",
    "url = \"https://www.mfds.go.kr/wpge/m_249/de010702l001.do\"\n",
    "res = requests.get(url)\n",
    "soup = BeautifulSoup(res.text, 'html.parser')\n",
    "\n",
    "for a in soup.find_all('a'):\n",
    "    href = a.get('href')\n",
    "    if href and 'wpge' in href:\n",
    "        print(href)\n"
   ]
  },
  {
   "cell_type": "code",
   "execution_count": 7,
   "id": "7bbe47fc",
   "metadata": {},
   "outputs": [
    {
     "name": "stdout",
     "output_type": "stream",
     "text": [
      "대통령령 제31489호(‘21.2.25.), 총리령 제1679호(‘21.2.26.)\n",
      "대통령령  제31380호(‘21.1.5.)\n",
      "대통령령 제31305호(‘20.12.29), 총리령제1660호(‘20.12.31)\n",
      "대통령령 제30965호(‘20.8.25), 총리령 제1640호(‘20.8.31)\n",
      "대통령령 제30623호(20.4.21.). 총리령 제1613호(20.5.8.)\n",
      "대통령령 제30462호(20.2.25.). 총리령 제1598호(20.2.27.)\n",
      "대통령령 제30282호(19.12.31.). 총리령1582호(20.1.9.)\n",
      "대통령령 제29743호(19.5.7.). 총리령 제1538호(19.5.15.)\n",
      "대통령령 제29583호(19.2.26.). 총리령 제1527호(19.3.4.)\n",
      "대통령령 제29244호(18.10.23.). 총리령 제1507호(18.12.11.)\n",
      "총리령 제1475호(18.7.9.)\n",
      "대통령령 제28752호(18.3.30.). 총리령 제1452호(18.3.30.)\n",
      "총리령 제1430호(18.1.1.)\n",
      "총리령 제1419호(17.9.28.)\n",
      "대통령령 제28021호(17.5.8.). 총리령 제1397호(17.5.26.)\n",
      "대통령령 제27942호(17.3.20.). 총리령제1383호(17.3.21.)\n",
      "대통령령 제27891호(17.2.28.). 총리령제1360호(17.2.28.)\n",
      "대통령령 제27689호(16.12.27.). 총리령제1360호(17.01.26.)\n",
      "대통령령 제27143호(16.5.10.), 총리령제1308호(16.7.29.)\n",
      "대통령령 제27143호(16.5.10.), 총리령제1255호(16.5.19.)\n",
      "대통령령 제26790호(15.12.30.), 총리령제1255호(16.2.05.)\n",
      "대통령령 제26790호(15.12.30), 총리령제1221호(15.12.30)\n",
      "대통령령 제26675호(15.11.30), 총리령제1216호(15.12.04)\n",
      "대통령령 제26258호(15.05.26), 총리령제1164호(15.05.29)\n",
      "대통령령 제25989호(15.01.06), 총리령제1133호(15.01.09)\n",
      "대통령령 제25568호(14.08.27), 총리령제1092호(14.08.27)\n",
      "대통령령 제25020호(13.12.24), 총리령제1067호(14.2.20)\n",
      "대통령령 제24965호(13.12.12), 총리령제1053호(13.12.18)\n",
      "대통령령 제24771호(13.9.26), 총리령제1043호(13.11.5)\n",
      "대통령령 제24771호(13.9.26), 총리령제1037호(13.10.4)\n",
      "대통령령 제24458호(13.3.23), 총리령제1010호(13.3.23)\n",
      "보건복지부령 제167호(12.11.8.)\n",
      "대통령령 제23860호(12.6.19.) 보건복지부령 제102호(12.7.30.)\n",
      "대통령령 제23449호(11.12.30) 보건복지부령 제102호(12.02.03)\n",
      "영제23209호(11.10.10)\n",
      "부령제 77호(11.8.22.)\n",
      "영제22937호(11.05.30) 부령제70호(11.07.29)\n",
      "영제22921호(11.05.04) 부령제54호(11.05.16)\n",
      "영제22075호(10.12.31) 부령제36호(11.01.04)\n",
      "부령제16호(09.08.25)\n",
      "영제21828호(09.11.17) 부령제138호(09.11.19)\n",
      "부령제133호(09.8.25)\n",
      "영제21458호(09.4.30) 부령제106호(094.30)\n",
      "영제21073호(08.10.8) 부령제68호(0810.8)\n",
      "영제20697호(08.2.29) 부령제3호(08.3.6)\n",
      "영제20424호(07.11.30)\n",
      "영제20273호(07.9.14) 부령제414호(07.9.20)\n",
      "영제20236호(07.8.22)\n",
      "영제19796호(06.12.29) 부령제403호(07.5.17)\n",
      "영제19,635호(06.8.1) 부령제368호(06.8.25)\n",
      "영제19,596호(06.6.30)\n",
      "영제19,236호(05.12.30) 부령제331호(06.1.14)\n",
      "영제19,060호(05.9.30) 부령제331호(05.9.30)\n",
      "영제18,786호(05.4.15) 부령제315호(05.4.26)\n",
      "영제18,729호(05.3.2) 부령제312호(05.3.7)\n",
      "영제18,656호(04.12.31) 부령제310호(05.2.1)\n",
      "영제18,399호(04.5.24) 부령제287호(04.7.2)\n",
      "영제18,214호(04.2.9) 부령제282호(04.3.31)\n",
      "영제18,214호(04.1.9) 부령제271호(04.2.4)\n",
      "영제18,062호(03.7.25) 부령제256호(03.8.30)\n",
      "영제17,615호(02.5.27) 부령제218호(02.6.12)\n",
      "영제17,508호(02.2.4)\n",
      "영제17,375호(01.9.29) 부령제201호(01.10.4)\n",
      "영제17,169호(01.3.27) 부령제192호(01.3.29)\n",
      "영제16,804호(00.5.10) 부령제148호(00.5.12)\n",
      "영제16,725호(00.2.28)\n",
      "영제17,615호(02.5.27) 부령제218호(02.6.12)\n"
     ]
    }
   ],
   "source": [
    "import requests\n",
    "from bs4 import BeautifulSoup\n",
    "\n",
    "base_url = \"https://www.mfds.go.kr\"\n",
    "\n",
    "def get_text(url):\n",
    "    res = requests.get(url)\n",
    "    soup = BeautifulSoup(res.text, 'html.parser')\n",
    "    for td in soup.find_all('td'):\n",
    "        strong = td.find('strong')\n",
    "        if strong:\n",
    "            print(strong.text)\n",
    "\n",
    "urls = [\n",
    "    \"/wpge/m_249/de010702l001.do\",\n",
    "    \"/wpge/m_250/de010702l002.do\",\n",
    "    \"/wpge/m_252/de010702l003.do\",\n",
    "    \"/wpge/m_257/de010702l004.do\",\n",
    "    \"/wpge/m_259/de010702l005.do\",\n",
    "    \"/wpge/m_261/de010702l006.do\",\n",
    "    \"/wpge/m_262/de010702l007.do\",\n",
    "    \"/wpge/m_265/de010702l008.do\"\n",
    "]\n",
    "\n",
    "for url in urls:\n",
    "    get_text(base_url + url)\n"
   ]
  },
  {
   "cell_type": "markdown",
   "id": "c8d77502",
   "metadata": {},
   "source": [
    "## 3."
   ]
  },
  {
   "cell_type": "code",
   "execution_count": 7,
   "id": "c04b2edb",
   "metadata": {},
   "outputs": [
    {
     "name": "stdout",
     "output_type": "stream",
     "text": [
      "2\n"
     ]
    }
   ],
   "source": [
    "from selenium import webdriver\n",
    "from selenium.webdriver.common.by import By\n",
    "from selenium.webdriver.support.ui import WebDriverWait\n",
    "from selenium.webdriver.support import expected_conditions as EC\n",
    "import time\n",
    "\n",
    "# Step 1: Open the website\n",
    "driver = webdriver.Chrome()\n",
    "driver.get(\"https://impfood.mfds.go.kr/CFCJJ01F01\")\n",
    "\n",
    "# Step 2: Enter \"닭가슴살\" into the search field\n",
    "search_field = driver.find_element(By.XPATH, '//*[@id=\"srchText\"]')\n",
    "search_field.send_keys(\"닭가슴살\")\n",
    "\n",
    "# Step 3: Click the search button\n",
    "search_button = driver.find_element(By.XPATH, '//*[@id=\"btnSearch\"]')\n",
    "search_button.click()\n",
    "\n",
    "# Step 4: Wait for the results to load and print the desired text\n",
    "wait = WebDriverWait(driver, 10)\n",
    "results = wait.until(EC.presence_of_element_located((By.XPATH, '/html/body/div[2]/div[2]/div/div/div/section/form[1]/fieldset/div[2]/span/strong')))\n",
    "print(results.text)\n",
    "time.sleep(3)\n",
    "# Step 5: Close the browser\n",
    "driver.quit()\n"
   ]
  },
  {
   "cell_type": "code",
   "execution_count": 9,
   "id": "b96793fe",
   "metadata": {},
   "outputs": [
    {
     "name": "stderr",
     "output_type": "stream",
     "text": [
      "C:\\Users\\admin\\AppData\\Local\\Temp/ipykernel_11548/3315154659.py:14: DeprecationWarning: find_element_by_xpath is deprecated. Please use find_element(by=By.XPATH, value=xpath) instead\n",
      "  search_box = driver.find_element_by_xpath(\"//*[@id='srchText']\")\n",
      "C:\\Users\\admin\\AppData\\Local\\Temp/ipykernel_11548/3315154659.py:18: DeprecationWarning: find_element_by_xpath is deprecated. Please use find_element(by=By.XPATH, value=xpath) instead\n",
      "  search_button = driver.find_element_by_xpath(\"//*[@id='btnSearch']\")\n",
      "C:\\Users\\admin\\AppData\\Local\\Temp/ipykernel_11548/3315154659.py:26: DeprecationWarning: find_element_by_xpath is deprecated. Please use find_element(by=By.XPATH, value=xpath) instead\n",
      "  result = driver.find_element_by_xpath(\"//*[@id='frm']/fieldset/table/tbody/tr/td[6]/a\")\n"
     ]
    },
    {
     "name": "stdout",
     "output_type": "stream",
     "text": [
      "식품첨가물\n"
     ]
    }
   ],
   "source": [
    "from selenium import webdriver\n",
    "from selenium.webdriver.common.keys import Keys\n",
    "from selenium.webdriver.common.by import By\n",
    "from selenium.webdriver.support.ui import WebDriverWait\n",
    "from selenium.webdriver.support import expected_conditions as EC\n",
    "\n",
    "# Initialize the driver\n",
    "driver = webdriver.Chrome()\n",
    "\n",
    "# Go to the URL\n",
    "driver.get(\"https://impfood.mfds.go.kr/CFCJJ01F01\")\n",
    "\n",
    "# Find the search box and enter the search term\n",
    "search_box = driver.find_element_by_xpath(\"//*[@id='srchText']\")\n",
    "search_box.send_keys(\"히알루론산\")\n",
    "\n",
    "# Find the search button and click it\n",
    "search_button = driver.find_element_by_xpath(\"//*[@id='btnSearch']\")\n",
    "search_button.click()\n",
    "\n",
    "# Wait for the results to load\n",
    "wait = WebDriverWait(driver, 10)\n",
    "element = wait.until(EC.presence_of_element_located((By.XPATH, \"//*[@id='frm']/fieldset/table/tbody/tr/td[6]/a\")))\n",
    "\n",
    "# Print the results\n",
    "result = driver.find_element_by_xpath(\"//*[@id='frm']/fieldset/table/tbody/tr/td[6]/a\")\n",
    "print(result.text)\n",
    "\n",
    "# Close the driver\n",
    "driver.quit()\n"
   ]
  },
  {
   "cell_type": "code",
   "execution_count": 11,
   "id": "3c2f63f0",
   "metadata": {},
   "outputs": [
    {
     "name": "stderr",
     "output_type": "stream",
     "text": [
      "C:\\Users\\admin\\AppData\\Local\\Temp/ipykernel_11548/200734229.py:14: DeprecationWarning: find_element_by_xpath is deprecated. Please use find_element(by=By.XPATH, value=xpath) instead\n",
      "  radio_button = driver.find_element_by_xpath(\"//*[@id='frm']/fieldset/div[1]/table/tbody/tr[1]/td/span[2]/label\")\n",
      "C:\\Users\\admin\\AppData\\Local\\Temp/ipykernel_11548/200734229.py:18: DeprecationWarning: find_element_by_xpath is deprecated. Please use find_element(by=By.XPATH, value=xpath) instead\n",
      "  search_box = driver.find_element_by_xpath(\"//*[@id='srchText']\")\n",
      "C:\\Users\\admin\\AppData\\Local\\Temp/ipykernel_11548/200734229.py:22: DeprecationWarning: find_element_by_xpath is deprecated. Please use find_element(by=By.XPATH, value=xpath) instead\n",
      "  search_button = driver.find_element_by_xpath(\"//*[@id='btnSearch']\")\n",
      "C:\\Users\\admin\\AppData\\Local\\Temp/ipykernel_11548/200734229.py:30: DeprecationWarning: find_element_by_xpath is deprecated. Please use find_element(by=By.XPATH, value=xpath) instead\n",
      "  result = driver.find_element_by_xpath(\"//*[@id='frm']/fieldset/table/tbody/tr/td[6]/a\")\n"
     ]
    },
    {
     "name": "stdout",
     "output_type": "stream",
     "text": [
      "화장지, 일회용 행주, 타월, 종이냅킨, 면봉, 기저귀, 팬티라이너, 건티슈\n"
     ]
    }
   ],
   "source": [
    "from selenium import webdriver\n",
    "from selenium.webdriver.common.keys import Keys\n",
    "from selenium.webdriver.common.by import By\n",
    "from selenium.webdriver.support.ui import WebDriverWait\n",
    "from selenium.webdriver.support import expected_conditions as EC\n",
    "\n",
    "# Initialize the driver\n",
    "driver = webdriver.Chrome()\n",
    "\n",
    "# Go to the URL\n",
    "driver.get(\"https://impfood.mfds.go.kr/CFCJJ01F01\")\n",
    "\n",
    "# Find the radio button and click it\n",
    "radio_button = driver.find_element_by_xpath(\"//*[@id='frm']/fieldset/div[1]/table/tbody/tr[1]/td/span[2]/label\")\n",
    "radio_button.click()\n",
    "\n",
    "# Find the search box and enter the search term\n",
    "search_box = driver.find_element_by_xpath(\"//*[@id='srchText']\")\n",
    "search_box.send_keys(\"히알루론산\")\n",
    "\n",
    "# Find the search button and click it\n",
    "search_button = driver.find_element_by_xpath(\"//*[@id='btnSearch']\")\n",
    "search_button.click()\n",
    "\n",
    "# Wait for the results to load\n",
    "wait = WebDriverWait(driver, 10)\n",
    "element = wait.until(EC.presence_of_element_located((By.XPATH, \"//*[@id='frm']/fieldset/table/tbody/tr/td[6]/a\")))\n",
    "\n",
    "# Print the results\n",
    "result = driver.find_element_by_xpath(\"//*[@id='frm']/fieldset/table/tbody/tr/td[6]/a\")\n",
    "print(result.text)\n",
    "\n",
    "# Close the driver\n",
    "driver.quit()\n"
   ]
  },
  {
   "cell_type": "code",
   "execution_count": 12,
   "id": "c601a2d5",
   "metadata": {},
   "outputs": [
    {
     "name": "stdout",
     "output_type": "stream",
     "text": [
      "화장지, 일회용 행주, 타월, 종이냅킨, 면봉, 기저귀, 팬티라이너, 건티슈\n"
     ]
    }
   ],
   "source": [
    "from selenium import webdriver\n",
    "from selenium.webdriver.common.keys import Keys\n",
    "from selenium.webdriver.common.by import By\n",
    "from selenium.webdriver.support.ui import WebDriverWait\n",
    "from selenium.webdriver.support import expected_conditions as EC\n",
    "\n",
    "# Initialize the driver\n",
    "driver = webdriver.Chrome()\n",
    "\n",
    "# Go to the URL\n",
    "driver.get(\"https://impfood.mfds.go.kr/CFCJJ01F01\")\n",
    "\n",
    "# Find the radio button and click it\n",
    "radio_button = driver.find_element(by=By.XPATH, value=\"//*[@id='frm']/fieldset/div[1]/table/tbody/tr[1]/td/span[2]/label\")\n",
    "radio_button.click()\n",
    "\n",
    "# Find the search box and enter the search term\n",
    "search_box = driver.find_element(by=By.XPATH, value=\"//*[@id='srchText']\")\n",
    "search_box.send_keys(\"히알루론산\")\n",
    "\n",
    "# Find the search button and click it\n",
    "search_button = driver.find_element(by=By.XPATH, value=\"//*[@id='btnSearch']\")\n",
    "search_button.click()\n",
    "\n",
    "# Wait for the results to load\n",
    "wait = WebDriverWait(driver, 10)\n",
    "element = wait.until(EC.presence_of_element_located((By.XPATH, \"//*[@id='frm']/fieldset/table/tbody/tr/td[6]/a\")))\n",
    "\n",
    "# Print the results\n",
    "result = driver.find_element(by=By.XPATH, value=\"//*[@id='frm']/fieldset/table/tbody/tr/td[6]/a\")\n",
    "print(result.text)\n",
    "\n",
    "# Close the driver\n",
    "driver.quit()\n"
   ]
  }
 ],
 "metadata": {
  "kernelspec": {
   "display_name": "Python 3",
   "language": "python",
   "name": "python3"
  },
  "language_info": {
   "codemirror_mode": {
    "name": "ipython",
    "version": 3
   },
   "file_extension": ".py",
   "mimetype": "text/x-python",
   "name": "python",
   "nbconvert_exporter": "python",
   "pygments_lexer": "ipython3",
   "version": "3.8.8"
  }
 },
 "nbformat": 4,
 "nbformat_minor": 5
}
